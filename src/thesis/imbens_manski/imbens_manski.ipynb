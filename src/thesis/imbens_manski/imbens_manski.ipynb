{
 "cells": [
  {
   "cell_type": "code",
   "execution_count": null,
   "metadata": {},
   "outputs": [],
   "source": [
    "\"\"\"Try out Imbens Manski simulation functions.\"\"\"\n",
    "from thesis.config import RNG\n",
    "from thesis.imbens_manski.funcs import experiment"
   ]
  },
  {
   "cell_type": "code",
   "execution_count": null,
   "metadata": {},
   "outputs": [],
   "source": [
    "experiment(\n",
    "    n_obs=1000,\n",
    "    p=0.75,\n",
    "    alpha=0.95,\n",
    "    rng=RNG,\n",
    ")"
   ]
  }
 ],
 "metadata": {
  "language_info": {
   "codemirror_mode": {
    "name": "ipython",
    "version": 3
   },
   "file_extension": ".py",
   "mimetype": "text/x-python",
   "name": "python",
   "nbconvert_exporter": "python",
   "pygments_lexer": "ipython3"
  }
 },
 "nbformat": 4,
 "nbformat_minor": 2
}
