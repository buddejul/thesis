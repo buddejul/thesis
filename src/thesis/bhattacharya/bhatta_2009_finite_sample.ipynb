{
 "cells": [
  {
   "cell_type": "code",
   "execution_count": null,
   "metadata": {},
   "outputs": [],
   "source": [
    "\"\"\"Finite sample results for Bhatta 2009.\"\"\"\n",
    "import numpy as np\n",
    "import plotly.graph_objects as go\n",
    "from scipy.stats import norm\n",
    "\n",
    "from thesis.bhattacharya.bhatta_plot_funcs import plot_finite_sample_distribution"
   ]
  },
  {
   "cell_type": "code",
   "execution_count": null,
   "metadata": {},
   "outputs": [],
   "source": [
    "plot_finite_sample_distribution(\n",
    "    num_obs=100,\n",
    "    theta=[-0.15, -0.01, 0, 0.01, 0.15],\n",
    "    sigma=1,\n",
    ")"
   ]
  },
  {
   "cell_type": "code",
   "execution_count": null,
   "metadata": {},
   "outputs": [],
   "source": [
    "def prob_cover_finite_sample(\n",
    "    alpha_pretest: float,\n",
    "    alpha: float,\n",
    ") -> float:\n",
    "    \"\"\"Finite sample covergage probability for a pre-test confidence interval.\"\"\"\n",
    "    pre_right = alpha_pretest / 2 * 1\n",
    "\n",
    "    pre_mid = (1 - alpha_pretest) * (\n",
    "        0.5 * 1\n",
    "        + 0.5\n",
    "        * np.min([1, 1 - (alpha / 2 - alpha_pretest / 2) / (1 / 2 - alpha_pretest / 2)])\n",
    "    )\n",
    "\n",
    "    pre_left = (\n",
    "        alpha_pretest\n",
    "        / 2\n",
    "        * np.max([0, 1 - (norm.cdf(alpha / 2) / norm.cdf(alpha_pretest / 2))])\n",
    "    )\n",
    "\n",
    "    return pre_right + pre_mid + pre_left"
   ]
  },
  {
   "cell_type": "code",
   "execution_count": null,
   "metadata": {},
   "outputs": [],
   "source": [
    "alpha_pretest_grid = np.linspace(0.01, 0.5, 100)\n",
    "alpha = 0.05\n",
    "\n",
    "fig = go.Figure()\n",
    "\n",
    "fig.add_trace(\n",
    "    go.Scatter(\n",
    "        x=alpha_pretest_grid,\n",
    "        y=[\n",
    "            prob_cover_finite_sample(alpha_pretest, alpha=alpha)\n",
    "            for alpha_pretest in alpha_pretest_grid\n",
    "        ],\n",
    "        mode=\"lines\",\n",
    "        name=\"alpha=0.05\",\n",
    "    ),\n",
    ")\n",
    "\n",
    "# Add horizontal line at 1 - alpha\n",
    "\n",
    "fig.add_shape(\n",
    "    type=\"line\",\n",
    "    x0=0,\n",
    "    y0=1 - alpha,\n",
    "    x1=0.5,\n",
    "    y1=1 - alpha,\n",
    "    line={\n",
    "        \"color\": \"black\",\n",
    "        \"width\": 1,\n",
    "        \"dash\": \"dashdot\",\n",
    "    },\n",
    ")\n",
    "\n",
    "fig.update_layout(\n",
    "    title=f\"Coverage probability of {(1 - alpha)*100}% CI\",\n",
    "    xaxis_title=\"Type I error Pre-Test (alpha pre test)\",\n",
    "    yaxis_title=\"Coverage probability\",\n",
    ")\n",
    "\n",
    "fig.show()"
   ]
  },
  {
   "cell_type": "code",
   "execution_count": null,
   "metadata": {},
   "outputs": [],
   "source": [
    "prob_cover_finite_sample(alpha_pretest=0.05, alpha=0.05)"
   ]
  },
  {
   "cell_type": "code",
   "execution_count": null,
   "metadata": {},
   "outputs": [],
   "source": []
  }
 ],
 "metadata": {
  "language_info": {
   "codemirror_mode": {
    "name": "ipython",
    "version": 3
   },
   "file_extension": ".py",
   "mimetype": "text/x-python",
   "name": "python",
   "nbconvert_exporter": "python",
   "pygments_lexer": "ipython3"
  }
 },
 "nbformat": 4,
 "nbformat_minor": 2
}
