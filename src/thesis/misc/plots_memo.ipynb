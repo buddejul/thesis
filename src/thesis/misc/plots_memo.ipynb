{
 "cells": [
  {
   "cell_type": "code",
   "execution_count": null,
   "metadata": {},
   "outputs": [],
   "source": [
    "\"\"\"Plots for Memo showing feasible region.\"\"\"\n",
    "# First Plot: [0, 1] box and circle in R^2\n",
    "# Second Plot: [0, 1] box and circle in R^3\n",
    "import numpy as np\n",
    "import plotly.graph_objects as go"
   ]
  },
  {
   "cell_type": "code",
   "execution_count": null,
   "metadata": {},
   "outputs": [],
   "source": [
    "def fun_box(x, y):\n",
    "    \"\"\"Function Box.\"\"\"\n",
    "    return np.max([x, y]) <= 1"
   ]
  },
  {
   "cell_type": "code",
   "execution_count": null,
   "metadata": {},
   "outputs": [],
   "source": [
    "# First Plot\n",
    "x = np.linspace(0, 1, 100)\n",
    "\n",
    "fig = go.Figure()\n",
    "\n",
    "fig.add_trace(go.Scatter(x=x, y=[0] * len(x), mode=\"lines\", name=\"x=0\"))\n",
    "\n",
    "fig.add_trace(go.Scatter(x=x, y=[1] * len(x), mode=\"lines\", name=\"x=1\"))\n",
    "\n",
    "fig.add_trace(go.Scatter(x=[0] * len(x), y=x, mode=\"lines\", name=\"y=0\"))\n",
    "\n",
    "fig.add_trace(go.Scatter(x=[1] * len(x), y=x, mode=\"lines\", name=\"y=1\"))\n",
    "\n",
    "fig.add_trace(go.Scatter(x=x, y=1 - x, mode=\"lines\", name=\"x+y=1\"))\n",
    "\n",
    "fig.show()"
   ]
  },
  {
   "cell_type": "code",
   "execution_count": null,
   "metadata": {},
   "outputs": [],
   "source": []
  }
 ],
 "metadata": {
  "language_info": {
   "codemirror_mode": {
    "name": "ipython",
    "version": 3
   },
   "file_extension": ".py",
   "mimetype": "text/x-python",
   "name": "python",
   "nbconvert_exporter": "python",
   "pygments_lexer": "ipython3"
  }
 },
 "nbformat": 4,
 "nbformat_minor": 2
}
