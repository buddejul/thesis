{
 "cells": [
  {
   "cell_type": "code",
   "execution_count": null,
   "metadata": {},
   "outputs": [],
   "source": [
    "\"\"\"Manski-Imbens Critical Value.\"\"\"\n",
    "\n",
    "from functools import partial\n",
    "\n",
    "import numpy as np\n",
    "import pandas as pd\n",
    "import plotly.graph_objects as go\n",
    "from scipy.optimize import fsolve\n",
    "from scipy.stats import norm"
   ]
  },
  {
   "cell_type": "code",
   "execution_count": null,
   "metadata": {},
   "outputs": [],
   "source": [
    "# Parameters\n",
    "sigma = 1\n",
    "N = 1000\n",
    "\n",
    "sigma_to_plot = [0.5, 1, 2]\n",
    "n_to_plot = [100, 1000, 10000]\n",
    "\n",
    "# All combinations\n",
    "params_to_plot = [(s, n) for s in sigma_to_plot for n in n_to_plot]"
   ]
  },
  {
   "cell_type": "code",
   "execution_count": null,
   "metadata": {},
   "outputs": [],
   "source": [
    "# Critical value two-sided is CDF evaluated at alpha = 0.95\n",
    "alpha = 0.95\n",
    "z_alpha = norm.ppf(alpha)\n",
    "\n",
    "z_alpha_half = norm.ppf((alpha + 1) / 2)\n",
    "\n",
    "z_alpha, z_alpha_half"
   ]
  },
  {
   "cell_type": "code",
   "execution_count": null,
   "metadata": {},
   "outputs": [],
   "source": [
    "def imbens_manski_z(alpha: float, num_obs: int, p: float, sigma: float) -> float:\n",
    "    \"\"\"Imbens-Manski critical value.\"\"\"\n",
    "\n",
    "    # Defined as the root of\n",
    "    def fun(x, p=p, alpha=alpha):\n",
    "        return (\n",
    "            norm.cdf(x + np.sqrt(num_obs) * (1 - p) / (sigma * np.sqrt(p)))\n",
    "            - norm.cdf(-x)\n",
    "            - alpha\n",
    "        )\n",
    "\n",
    "    # Find root\n",
    "    return fsolve(fun, 1.96)[0]"
   ]
  },
  {
   "cell_type": "code",
   "execution_count": null,
   "metadata": {},
   "outputs": [],
   "source": [
    "p_grid = np.linspace(0.8, 1.0, 100)\n",
    "\n",
    "im_z = partial(imbens_manski_z, alpha=alpha)"
   ]
  },
  {
   "cell_type": "code",
   "execution_count": null,
   "metadata": {},
   "outputs": [],
   "source": [
    "results = {}\n",
    "\n",
    "for params in params_to_plot:\n",
    "    results[params] = [im_z(p=p, num_obs=params[1], sigma=params[0]) for p in p_grid]"
   ]
  },
  {
   "cell_type": "code",
   "execution_count": null,
   "metadata": {},
   "outputs": [],
   "source": [
    "fig = go.Figure()\n",
    "\n",
    "for params, im_z_by_p in results.items():\n",
    "    fig.add_trace(\n",
    "        go.Scatter(\n",
    "            x=p_grid,\n",
    "            y=im_z_by_p,\n",
    "            mode=\"lines\",\n",
    "            name=f\"sigma={params[0]}, n={params[1]}\",\n",
    "        ),\n",
    "    )\n",
    "\n",
    "# Add horitzontal lines for z_alpha and z_alpha_half\n",
    "\n",
    "fig.add_trace(\n",
    "    go.Scatter(x=p_grid, y=[z_alpha] * len(p_grid), mode=\"lines\", name=\"z_alpha\"),\n",
    ")\n",
    "\n",
    "fig.add_trace(\n",
    "    go.Scatter(\n",
    "        x=p_grid,\n",
    "        y=[z_alpha_half] * len(p_grid),\n",
    "        mode=\"lines\",\n",
    "        name=\"z_alpha_half\",\n",
    "    ),\n",
    ")\n",
    "\n",
    "\n",
    "fig.update_layout(\n",
    "    title=\"Imbens-Manski Critical Value\",\n",
    "    xaxis_title=\"p\",\n",
    "    yaxis_title=\"Critical Value\",\n",
    ")\n",
    "\n",
    "fig.show()"
   ]
  },
  {
   "cell_type": "code",
   "execution_count": null,
   "metadata": {},
   "outputs": [],
   "source": [
    "# Plot implied alpha of normal distribution\n",
    "fig = go.Figure()\n",
    "\n",
    "for params, im_z_by_p in results.items():\n",
    "    fig.add_trace(\n",
    "        go.Scatter(\n",
    "            x=p_grid,\n",
    "            y=1 - norm.cdf(im_z_by_p),\n",
    "            mode=\"lines\",\n",
    "            name=f\"sigma={params[0]}, n={params[1]}\",\n",
    "        ),\n",
    "    )\n",
    "\n",
    "fig.show()"
   ]
  },
  {
   "cell_type": "code",
   "execution_count": null,
   "metadata": {},
   "outputs": [],
   "source": [
    "def _solve_imbens_manski_critival_value(\n",
    "    alpha: float,\n",
    "    n_obs: int,\n",
    "    length: float,\n",
    "    sigma_lower: float,\n",
    "    sigma_upper: float,\n",
    ") -> float:\n",
    "    \"\"\"Imbens-Manski critical value.\"\"\"\n",
    "\n",
    "    # Function defining the critival value (Equation 7 in IM 2004 ECMA).\n",
    "    # Note we define CIs by 1 - alpha coverage, IM use alpha coverage, hence\n",
    "    # we subtract (1 - alpha).\n",
    "    def fun(x):\n",
    "        return (\n",
    "            norm.cdf(x + np.sqrt(n_obs) * length / max(sigma_lower, sigma_upper))\n",
    "            - norm.cdf(-x)\n",
    "            - (1 - alpha)\n",
    "        )\n",
    "\n",
    "    # Find root\n",
    "    return fsolve(fun, 1.96)[0]"
   ]
  },
  {
   "cell_type": "code",
   "execution_count": null,
   "metadata": {},
   "outputs": [],
   "source": [
    "crit = _solve_imbens_manski_critival_value(\n",
    "    alpha=0.05,\n",
    "    n_obs=10_000,\n",
    "    length=0.01,\n",
    "    sigma_lower=10,\n",
    "    sigma_upper=10,\n",
    ")\n",
    "\n",
    "crit, 1 - norm.cdf(crit)"
   ]
  },
  {
   "cell_type": "code",
   "execution_count": null,
   "metadata": {},
   "outputs": [],
   "source": [
    "fun = partial(\n",
    "    _solve_imbens_manski_critival_value,\n",
    "    alpha=0.05,\n",
    "    n_obs=10_000,\n",
    "    sigma_lower=10,\n",
    "    sigma_upper=10,\n",
    ")\n",
    "\n",
    "length_grid = np.linspace(0.001, 0.1, 100)\n",
    "\n",
    "results = [fun(length=length) for length in length_grid]\n",
    "\n",
    "implied_alpha = [1 - norm.cdf(crit) for crit in results]\n",
    "\n",
    "fig = go.Figure()\n",
    "\n",
    "fig.add_trace(\n",
    "    go.Scatter(\n",
    "        x=length_grid,\n",
    "        y=results,\n",
    "        mode=\"lines\",\n",
    "        name=\"Imbens-Manski Critical Value\",\n",
    "    ),\n",
    ")"
   ]
  },
  {
   "cell_type": "code",
   "execution_count": null,
   "metadata": {},
   "outputs": [],
   "source": [
    "data = pd.DataFrame({\"length\": length_grid, \"crit\": results, \"alpha\": implied_alpha})"
   ]
  },
  {
   "cell_type": "code",
   "execution_count": null,
   "metadata": {},
   "outputs": [],
   "source": []
  }
 ],
 "metadata": {
  "language_info": {
   "codemirror_mode": {
    "name": "ipython",
    "version": 3
   },
   "file_extension": ".py",
   "mimetype": "text/x-python",
   "name": "python",
   "nbconvert_exporter": "python",
   "pygments_lexer": "ipython3"
  }
 },
 "nbformat": 4,
 "nbformat_minor": 2
}
