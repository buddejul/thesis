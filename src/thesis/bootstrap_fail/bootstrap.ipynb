{
 "cells": [
  {
   "cell_type": "code",
   "execution_count": null,
   "metadata": {},
   "outputs": [],
   "source": [
    "\"\"\"Explore bootstrap simulation functions.\"\"\"\n",
    "\n",
    "import plotly.graph_objects as go\n",
    "\n",
    "from thesis.bootstrap_fail.funcs import (\n",
    "    _bootstrap_ci,\n",
    "    _draw_data,\n",
    ")\n",
    "from thesis.config import RNG\n",
    "\n",
    "%load_ext autoreload\n",
    "%autoreload 2"
   ]
  },
  {
   "cell_type": "code",
   "execution_count": null,
   "metadata": {},
   "outputs": [],
   "source": [
    "n_obs = 10_000"
   ]
  },
  {
   "cell_type": "code",
   "execution_count": null,
   "metadata": {},
   "outputs": [],
   "source": [
    "data = _draw_data(\n",
    "    n_obs=n_obs,\n",
    "    rng=RNG,\n",
    ")"
   ]
  },
  {
   "cell_type": "code",
   "execution_count": null,
   "metadata": {},
   "outputs": [],
   "source": [
    "lo, hi, late = _bootstrap_ci(\n",
    "    alpha=0.05,\n",
    "    u_hi=0.7,\n",
    "    data=data,\n",
    "    n_boot=1_000,\n",
    "    rng=RNG,\n",
    "    return_distr=True,\n",
    ")"
   ]
  },
  {
   "cell_type": "code",
   "execution_count": null,
   "metadata": {},
   "outputs": [],
   "source": [
    "# Make histogram of lo, hi, and late in one figure\n",
    "fig = go.Figure()\n",
    "fig.add_trace(go.Histogram(x=lo, histnorm=\"probability\", name=\"lo\"))\n",
    "fig.add_trace(go.Histogram(x=hi, histnorm=\"probability\", name=\"hi\"))\n",
    "fig.add_trace(go.Histogram(x=late, histnorm=\"probability\", name=\"late\"))\n",
    "fig.update_layout(barmode=\"overlay\")\n",
    "fig.show()"
   ]
  },
  {
   "cell_type": "code",
   "execution_count": null,
   "metadata": {},
   "outputs": [],
   "source": []
  }
 ],
 "metadata": {
  "language_info": {
   "codemirror_mode": {
    "name": "ipython",
    "version": 3
   },
   "file_extension": ".py",
   "mimetype": "text/x-python",
   "name": "python",
   "nbconvert_exporter": "python",
   "pygments_lexer": "ipython3"
  }
 },
 "nbformat": 4,
 "nbformat_minor": 2
}
