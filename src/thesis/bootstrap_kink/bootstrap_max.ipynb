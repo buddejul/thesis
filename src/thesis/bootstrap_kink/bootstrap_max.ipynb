{
 "cells": [
  {
   "cell_type": "code",
   "execution_count": null,
   "metadata": {},
   "outputs": [],
   "source": [
    "\"\"\"Investigate performance of bootstrap for phi(theta) = max(theta, 0).\"\"\""
   ]
  },
  {
   "cell_type": "code",
   "execution_count": null,
   "metadata": {},
   "outputs": [],
   "source": [
    "import numpy as np\n",
    "import pandas as pd\n",
    "import plotly.graph_objs as go\n",
    "from joblib import Parallel, delayed"
   ]
  },
  {
   "cell_type": "code",
   "execution_count": null,
   "metadata": {},
   "outputs": [],
   "source": [
    "def _phi_max(theta):\n",
    "    return np.maximum(theta, 0)\n",
    "\n",
    "\n",
    "def _phi_kink(theta, a=0.5):\n",
    "    return theta * (theta < 0) + a * theta * (theta >= 0)"
   ]
  },
  {
   "cell_type": "code",
   "execution_count": null,
   "metadata": {},
   "outputs": [],
   "source": [
    "def _experiment(n_obs, n_boot, theta_0, phi, alpha, rng, return_boot):\n",
    "    x = rng.normal(theta_0, 1, n_obs)\n",
    "\n",
    "    mle = phi(x.mean())\n",
    "\n",
    "    boot_mle = np.zeros(n_boot)\n",
    "\n",
    "    for i in range(n_boot):\n",
    "        boot_idx = rng.choice(n_obs, n_obs, replace=True)\n",
    "        boot_x = x[boot_idx]\n",
    "        boot_mle[i] = phi(boot_x.mean())\n",
    "\n",
    "    boot_distr = np.sqrt(n_obs) * (boot_mle - mle)\n",
    "\n",
    "    boot_cval_lo = np.percentile(boot_distr, 100 * alpha / 2)\n",
    "    boot_cval_hi = np.percentile(boot_distr, 100 * (1 - alpha / 2))\n",
    "\n",
    "    ci_lo = mle - boot_cval_hi / np.sqrt(n_obs)\n",
    "    ci_hi = mle - boot_cval_lo / np.sqrt(n_obs)\n",
    "\n",
    "    if return_boot:\n",
    "        return boot_distr\n",
    "\n",
    "    return pd.Series(\n",
    "        {\n",
    "            \"ci_lo\": ci_lo,\n",
    "            \"ci_hi\": ci_hi,\n",
    "            \"theta_0\": theta_0,\n",
    "            \"alpha\": alpha,\n",
    "            \"n_obs\": n_obs,\n",
    "            \"n_boot\": n_boot,\n",
    "        },\n",
    "    )"
   ]
  },
  {
   "cell_type": "code",
   "execution_count": null,
   "metadata": {},
   "outputs": [],
   "source": [
    "def simulation(n_sim, n_obs, n_boot, theta_0, phi, alpha, rng):\n",
    "    \"\"\"Simulation.\"\"\"\n",
    "    return pd.concat(\n",
    "        [_experiment(n_obs, n_boot, theta_0, phi, alpha, rng) for _ in range(n_sim)],\n",
    "        axis=1,\n",
    "    ).T"
   ]
  },
  {
   "cell_type": "code",
   "execution_count": null,
   "metadata": {},
   "outputs": [],
   "source": [
    "# Repeat simulation for different values of theta_0 and add 0\n",
    "theta_0_vals = np.linspace(-0.2, 0.2, 20)\n",
    "n_obs_vals = [250, 1_000]\n",
    "\n",
    "N_SIM = 2_000\n",
    "N_BOOT = 2_000\n",
    "\n",
    "ALPHA = 0.05"
   ]
  },
  {
   "cell_type": "code",
   "execution_count": null,
   "metadata": {},
   "outputs": [],
   "source": [
    "res = Parallel(n_jobs=10)(\n",
    "    delayed(simulation)(\n",
    "        n_sim=N_SIM,\n",
    "        n_obs=n_obs,\n",
    "        n_boot=N_BOOT,\n",
    "        theta_0=theta_0,\n",
    "        phi=_phi_kink,\n",
    "        alpha=ALPHA,\n",
    "        rng=np.random.default_rng(),\n",
    "        return_boot=False,\n",
    "    )\n",
    "    for theta_0 in theta_0_vals\n",
    "    for n_obs in n_obs_vals\n",
    ")"
   ]
  },
  {
   "cell_type": "code",
   "execution_count": null,
   "metadata": {},
   "outputs": [],
   "source": [
    "res = pd.concat(res, axis=0)"
   ]
  },
  {
   "cell_type": "code",
   "execution_count": null,
   "metadata": {},
   "outputs": [],
   "source": [
    "res[\"phi_0\"] = _phi_kink(res[\"theta_0\"])\n",
    "res[\"covers\"] = (res[\"ci_lo\"] <= res[\"phi_0\"]) & (res[\"ci_hi\"] >= res[\"phi_0\"])"
   ]
  },
  {
   "cell_type": "code",
   "execution_count": null,
   "metadata": {},
   "outputs": [],
   "source": [
    "# Plot mean covergae by theta_0 and n_obs\n",
    "\n",
    "res_grouped = res.groupby([\"theta_0\", \"n_obs\"])[\"covers\"].mean().reset_index()"
   ]
  },
  {
   "cell_type": "code",
   "execution_count": null,
   "metadata": {},
   "outputs": [],
   "source": [
    "fig = go.Figure()\n",
    "\n",
    "for n_obs, group in res_grouped.groupby(\"n_obs\"):\n",
    "    fig.add_trace(\n",
    "        go.Scatter(\n",
    "            x=group[\"theta_0\"],\n",
    "            y=group[\"covers\"],\n",
    "            mode=\"lines\",\n",
    "            name=f\"n_obs={n_obs}\",\n",
    "        ),\n",
    "    )\n",
    "\n",
    "fig.update_layout(\n",
    "    title=f\"Coverage of {1 - ALPHA} confidence intervals by theta_0\",\n",
    "    xaxis_title=\"theta_0\",\n",
    "    yaxis_title=\"Coverage\",\n",
    "    yaxis={\"tickformat\": \".2%\"},\n",
    ")\n",
    "\n",
    "fig.show()"
   ]
  },
  {
   "cell_type": "code",
   "execution_count": null,
   "metadata": {},
   "outputs": [],
   "source": []
  }
 ],
 "metadata": {
  "language_info": {
   "codemirror_mode": {
    "name": "ipython",
    "version": 3
   },
   "file_extension": ".py",
   "mimetype": "text/x-python",
   "name": "python",
   "nbconvert_exporter": "python",
   "pygments_lexer": "ipython3"
  }
 },
 "nbformat": 4,
 "nbformat_minor": 2
}
