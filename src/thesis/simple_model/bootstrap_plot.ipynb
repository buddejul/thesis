{
 "cells": [
  {
   "cell_type": "code",
   "execution_count": null,
   "metadata": {},
   "outputs": [],
   "source": [
    "\"\"\"Task for running bootstrap simulations.\"\"\"\n",
    "\n",
    "\n",
    "import pandas as pd  # type: ignore[import-untyped]\n",
    "import plotly.graph_objects as go  # type: ignore[import-untyped]\n",
    "\n",
    "from thesis.simple_model.task_bootstrap_sims import ID_TO_KWARGS"
   ]
  },
  {
   "cell_type": "code",
   "execution_count": null,
   "metadata": {},
   "outputs": [],
   "source": [
    "coverage = []\n",
    "\n",
    "for kwargs in ID_TO_KWARGS.values():\n",
    "    res = pd.read_pickle(kwargs.path_to_data)  # noqa: S301\n",
    "    res[\"ci_covers\"] = (res[\"lo\"] < res[\"true\"]) & (res[\"hi\"] > res[\"true\"])\n",
    "    res[\"ci_length\"] = res[\"hi\"] - res[\"lo\"]\n",
    "    coverage.append(\n",
    "        (\n",
    "            kwargs.u_hi,\n",
    "            kwargs.n_obs,\n",
    "            res[\"ci_covers\"].mean(),\n",
    "            res[\"ci_length\"].mean(),\n",
    "        ),\n",
    "    )\n",
    "\n",
    "data = pd.DataFrame(coverage, columns=[\"u_hi\", \"n_obs\", \"coverage\", \"length\"])\n",
    "\n",
    "fig = go.Figure()\n",
    "for n_obs in data.n_obs.unique():\n",
    "    data_sub = data[data.n_obs == n_obs]\n",
    "    fig.add_trace(\n",
    "        go.Scatter(x=data_sub.u_hi, y=data_sub.coverage, name=f\"n_obs={n_obs}\"),\n",
    "    )\n",
    "\n",
    "fig.update_layout(\n",
    "    title=\"Coverage probability of confidence interval\",\n",
    "    xaxis_title=\"u_hi\",\n",
    "    yaxis_title=\"Coverage probability\",\n",
    ")"
   ]
  },
  {
   "cell_type": "code",
   "execution_count": null,
   "metadata": {},
   "outputs": [],
   "source": [
    "fig = go.Figure()\n",
    "for n_obs in data.n_obs.unique():\n",
    "    data_sub = data[data.n_obs == n_obs]\n",
    "    fig.add_trace(\n",
    "        go.Scatter(x=data_sub.u_hi, y=data_sub.length, name=f\"n_obs={n_obs}\"),\n",
    "    )\n",
    "\n",
    "fig.update_layout(\n",
    "    title=\"Average length of confidence interval\",\n",
    "    xaxis_title=\"u_hi\",\n",
    "    yaxis_title=\"Average length\",\n",
    ")"
   ]
  }
 ],
 "metadata": {
  "language_info": {
   "codemirror_mode": {
    "name": "ipython",
    "version": 3
   },
   "file_extension": ".py",
   "mimetype": "text/x-python",
   "name": "python",
   "nbconvert_exporter": "python",
   "pygments_lexer": "ipython3"
  }
 },
 "nbformat": 4,
 "nbformat_minor": 2
}
