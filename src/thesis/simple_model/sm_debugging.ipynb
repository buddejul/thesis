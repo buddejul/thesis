{
 "cells": [
  {
   "cell_type": "code",
   "execution_count": null,
   "metadata": {},
   "outputs": [],
   "source": [
    "\"\"\"Notebook for debugging bootstrap CIs.\"\"\"\n",
    "import numpy as np\n",
    "import pandas as pd\n",
    "import plotly.express as px\n",
    "\n",
    "from thesis.classes import Instrument, LocalATEs\n",
    "from thesis.simple_model.funcs import _true_late\n",
    "from thesis.simple_model.task_simple_model_sims import ID_TO_KWARGS, LATES_COMPLIER"
   ]
  },
  {
   "cell_type": "code",
   "execution_count": null,
   "metadata": {},
   "outputs": [],
   "source": [
    "n_obs = 10_000\n",
    "complier = -0.1\n",
    "boot_met = \"numerical_delta\""
   ]
  },
  {
   "cell_type": "code",
   "execution_count": null,
   "metadata": {},
   "outputs": [],
   "source": [
    "path_to_res = [\n",
    "    value.path_to_data\n",
    "    for key, value in ID_TO_KWARGS.items()\n",
    "    if value.n_obs == n_obs\n",
    "    and value.local_ates.complier == complier\n",
    "    and value.bootstrap_method == boot_met\n",
    "]"
   ]
  },
  {
   "cell_type": "code",
   "execution_count": null,
   "metadata": {},
   "outputs": [],
   "source": [
    "res = pd.read_pickle(path_to_res[0])  # noqa: S301\n",
    "res[\"covers_true_param\"] = (res[\"lo\"] <= res[\"true\"]) & (res[\"hi\"] >= res[\"true\"])\n",
    "res.head()"
   ]
  },
  {
   "cell_type": "code",
   "execution_count": null,
   "metadata": {},
   "outputs": [],
   "source": [
    "res.mean()"
   ]
  },
  {
   "cell_type": "code",
   "execution_count": null,
   "metadata": {},
   "outputs": [],
   "source": [
    "instrument = Instrument(\n",
    "    support=np.array([0, 1]),\n",
    "    pmf=np.array([0.5, 0.5]),\n",
    "    pscores=np.array([0.4, 0.6]),\n",
    ")\n",
    "\n",
    "lates = [\n",
    "    LocalATEs(\n",
    "        never_taker=0,\n",
    "        complier=late_complier,\n",
    "        always_taker=1,\n",
    "    )\n",
    "    for late_complier in LATES_COMPLIER\n",
    "]\n",
    "\n",
    "true_params = [\n",
    "    _true_late(u_hi=0.2, instrument=instrument, local_ates=local_lates)\n",
    "    for local_lates in lates\n",
    "]"
   ]
  },
  {
   "cell_type": "code",
   "execution_count": null,
   "metadata": {},
   "outputs": [],
   "source": [
    "# Plot true_params against LATES_COMPLIER\n",
    "data = pd.DataFrame(\n",
    "    {\n",
    "        \"true_param\": true_params,\n",
    "        \"complier\": LATES_COMPLIER,\n",
    "    },\n",
    ")\n",
    "\n",
    "fig = px.line(data, x=\"complier\", y=\"true_param\")\n",
    "fig.show()"
   ]
  },
  {
   "cell_type": "code",
   "execution_count": null,
   "metadata": {},
   "outputs": [],
   "source": []
  }
 ],
 "metadata": {
  "language_info": {
   "codemirror_mode": {
    "name": "ipython",
    "version": 3
   },
   "file_extension": ".py",
   "mimetype": "text/x-python",
   "name": "python",
   "nbconvert_exporter": "python",
   "pygments_lexer": "ipython3"
  }
 },
 "nbformat": 4,
 "nbformat_minor": 2
}
