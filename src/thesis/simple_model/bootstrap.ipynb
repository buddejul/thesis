{
 "cells": [
  {
   "cell_type": "code",
   "execution_count": null,
   "metadata": {},
   "outputs": [],
   "source": [
    "\"\"\"Explore bootstrap simulation functions.\"\"\"\n",
    "\n",
    "\n",
    "from thesis.classes import Instrument, LocalATEs\n",
    "from thesis.config import RNG\n",
    "from thesis.simple_model.funcs import (\n",
    "    _bootstrap_ci,\n",
    "    _draw_data,\n",
    ")\n",
    "\n",
    "%load_ext autoreload\n",
    "%autoreload 2"
   ]
  },
  {
   "cell_type": "code",
   "execution_count": null,
   "metadata": {},
   "outputs": [],
   "source": [
    "n_obs = 10_000\n",
    "local_ates = LocalATEs(\n",
    "    never_taker=0,\n",
    "    complier=0,\n",
    "    always_taker=0.5,\n",
    ")\n",
    "instrment = Instrument(\n",
    "    support=(0, 1),\n",
    "    pmf=(0.5, 0.5),\n",
    "    pscores=(0.4, 0.6),\n",
    ")"
   ]
  },
  {
   "cell_type": "code",
   "execution_count": null,
   "metadata": {},
   "outputs": [],
   "source": [
    "data = _draw_data(\n",
    "    n_obs=n_obs,\n",
    "    rng=RNG,\n",
    "    local_ates=local_ates,\n",
    "    instrument=instrment,\n",
    ")"
   ]
  },
  {
   "cell_type": "code",
   "execution_count": null,
   "metadata": {},
   "outputs": [],
   "source": [
    "_bootstrap_ci(\n",
    "    bootstrap_method=\"numerical_delta\",\n",
    "    alpha=0.05,\n",
    "    u_hi=0.1,\n",
    "    data=data,\n",
    "    n_boot=2_000,\n",
    "    rng=RNG,\n",
    "    constraint_mtr=\"increasing\",\n",
    ")"
   ]
  }
 ],
 "metadata": {
  "language_info": {
   "codemirror_mode": {
    "name": "ipython",
    "version": 3
   },
   "file_extension": ".py",
   "mimetype": "text/x-python",
   "name": "python",
   "nbconvert_exporter": "python",
   "pygments_lexer": "ipython3"
  }
 },
 "nbformat": 4,
 "nbformat_minor": 2
}
