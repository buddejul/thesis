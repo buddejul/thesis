{
 "cells": [
  {
   "cell_type": "code",
   "execution_count": null,
   "metadata": {},
   "outputs": [],
   "source": [
    "\"\"\"Debugging for analytical bootstrap delta method.\"\"\"\n",
    "import numpy as np\n",
    "\n",
    "from thesis.classes import Instrument, LocalATEs\n",
    "from thesis.config import RNG\n",
    "from thesis.simple_model.funcs import simulation_bootstrap"
   ]
  },
  {
   "cell_type": "code",
   "execution_count": null,
   "metadata": {},
   "outputs": [],
   "source": [
    "late_complier = 0\n",
    "\n",
    "local_ates = LocalATEs(\n",
    "    never_taker=0,\n",
    "    complier=late_complier,\n",
    "    always_taker=np.min((1, 1 + late_complier)),\n",
    ")\n",
    "\n",
    "instrument = Instrument(\n",
    "    support=np.array([0, 1]),\n",
    "    pmf=np.array([0.5, 0.5]),\n",
    "    pscores=np.array([0.4, 0.6]),\n",
    ")"
   ]
  },
  {
   "cell_type": "code",
   "execution_count": null,
   "metadata": {},
   "outputs": [],
   "source": [
    "simulation_bootstrap(\n",
    "    n_sims=10,\n",
    "    n_obs=100_000,\n",
    "    n_boot=10,\n",
    "    u_hi=0.2,\n",
    "    local_ates=local_ates,\n",
    "    instrument=instrument,\n",
    "    alpha=0.05,\n",
    "    constraint_mtr=\"increasing\",\n",
    "    bootstrap_method=\"analytical_delta\",\n",
    "    rng=RNG,\n",
    "    bootstrap_params={\n",
    "        \"kappa_fun\": lambda n: n ** (1 / 6),\n",
    "        \"eps_fun\": lambda n: 1 / n ** (1 / 6),\n",
    "    },\n",
    ")"
   ]
  },
  {
   "cell_type": "code",
   "execution_count": null,
   "metadata": {},
   "outputs": [],
   "source": []
  }
 ],
 "metadata": {
  "language_info": {
   "codemirror_mode": {
    "name": "ipython",
    "version": 3
   },
   "file_extension": ".py",
   "mimetype": "text/x-python",
   "name": "python",
   "nbconvert_exporter": "python",
   "pygments_lexer": "ipython3"
  }
 },
 "nbformat": 4,
 "nbformat_minor": 2
}
